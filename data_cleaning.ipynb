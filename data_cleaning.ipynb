{
 "cells": [
  {
   "cell_type": "code",
   "execution_count": 61,
   "id": "730be5ac",
   "metadata": {},
   "outputs": [],
   "source": [
    "import pandas as pd\n",
    "import numpy as np"
   ]
  },
  {
   "cell_type": "code",
   "execution_count": 62,
   "id": "e5cae9ed",
   "metadata": {},
   "outputs": [
    {
     "data": {
      "text/html": [
       "<div>\n",
       "<style scoped>\n",
       "    .dataframe tbody tr th:only-of-type {\n",
       "        vertical-align: middle;\n",
       "    }\n",
       "\n",
       "    .dataframe tbody tr th {\n",
       "        vertical-align: top;\n",
       "    }\n",
       "\n",
       "    .dataframe thead th {\n",
       "        text-align: right;\n",
       "    }\n",
       "</style>\n",
       "<table border=\"1\" class=\"dataframe\">\n",
       "  <thead>\n",
       "    <tr style=\"text-align: right;\">\n",
       "      <th></th>\n",
       "      <th>Sr No</th>\n",
       "      <th>Date</th>\n",
       "      <th>Startup Name</th>\n",
       "      <th>Industry Vertical</th>\n",
       "      <th>SubVertical</th>\n",
       "      <th>City  Location</th>\n",
       "      <th>Investors Name</th>\n",
       "      <th>InvestmentnType</th>\n",
       "      <th>Amount in USD</th>\n",
       "      <th>Remarks</th>\n",
       "    </tr>\n",
       "  </thead>\n",
       "  <tbody>\n",
       "    <tr>\n",
       "      <th>0</th>\n",
       "      <td>1</td>\n",
       "      <td>09-01-2020</td>\n",
       "      <td>BYJUS</td>\n",
       "      <td>E-Tech</td>\n",
       "      <td>E-learning</td>\n",
       "      <td>Bengaluru</td>\n",
       "      <td>Tiger Global Management</td>\n",
       "      <td>Private Equity Round</td>\n",
       "      <td>20,00,00,000</td>\n",
       "      <td>NaN</td>\n",
       "    </tr>\n",
       "    <tr>\n",
       "      <th>1</th>\n",
       "      <td>2</td>\n",
       "      <td>13-01-2020</td>\n",
       "      <td>Shuttl</td>\n",
       "      <td>Transportation</td>\n",
       "      <td>App based shuttle service</td>\n",
       "      <td>Gurgaon</td>\n",
       "      <td>Susquehanna Growth Equity</td>\n",
       "      <td>Series C</td>\n",
       "      <td>80,48,394</td>\n",
       "      <td>NaN</td>\n",
       "    </tr>\n",
       "    <tr>\n",
       "      <th>2</th>\n",
       "      <td>3</td>\n",
       "      <td>09-01-2020</td>\n",
       "      <td>Mamaearth</td>\n",
       "      <td>E-commerce</td>\n",
       "      <td>Retailer of baby and toddler products</td>\n",
       "      <td>Bengaluru</td>\n",
       "      <td>Sequoia Capital India</td>\n",
       "      <td>Series B</td>\n",
       "      <td>1,83,58,860</td>\n",
       "      <td>NaN</td>\n",
       "    </tr>\n",
       "    <tr>\n",
       "      <th>3</th>\n",
       "      <td>4</td>\n",
       "      <td>02-01-2020</td>\n",
       "      <td>wealth bucket</td>\n",
       "      <td>FinTech</td>\n",
       "      <td>Online Investment</td>\n",
       "      <td>New Delhi</td>\n",
       "      <td>Vinod Khatumal</td>\n",
       "      <td>Pre-series A</td>\n",
       "      <td>30,00,000</td>\n",
       "      <td>NaN</td>\n",
       "    </tr>\n",
       "    <tr>\n",
       "      <th>4</th>\n",
       "      <td>5</td>\n",
       "      <td>02-01-2020</td>\n",
       "      <td>Fashor</td>\n",
       "      <td>Fashion and Apparel</td>\n",
       "      <td>Embroiled Clothes For Women</td>\n",
       "      <td>Mumbai</td>\n",
       "      <td>Sprout Venture Partners</td>\n",
       "      <td>Seed Round</td>\n",
       "      <td>18,00,000</td>\n",
       "      <td>NaN</td>\n",
       "    </tr>\n",
       "  </tbody>\n",
       "</table>\n",
       "</div>"
      ],
      "text/plain": [
       "   Sr No        Date   Startup Name    Industry Vertical  \\\n",
       "0      1  09-01-2020         BYJUS               E-Tech   \n",
       "1      2  13-01-2020         Shuttl       Transportation   \n",
       "2      3  09-01-2020      Mamaearth           E-commerce   \n",
       "3      4  02-01-2020  wealth bucket              FinTech   \n",
       "4      5  02-01-2020         Fashor  Fashion and Apparel   \n",
       "\n",
       "                             SubVertical City  Location  \\\n",
       "0                             E-learning      Bengaluru   \n",
       "1              App based shuttle service        Gurgaon   \n",
       "2  Retailer of baby and toddler products      Bengaluru   \n",
       "3                      Online Investment      New Delhi   \n",
       "4            Embroiled Clothes For Women         Mumbai   \n",
       "\n",
       "              Investors Name       InvestmentnType Amount in USD Remarks  \n",
       "0    Tiger Global Management  Private Equity Round  20,00,00,000     NaN  \n",
       "1  Susquehanna Growth Equity              Series C     80,48,394     NaN  \n",
       "2      Sequoia Capital India              Series B   1,83,58,860     NaN  \n",
       "3             Vinod Khatumal          Pre-series A     30,00,000     NaN  \n",
       "4    Sprout Venture Partners            Seed Round     18,00,000     NaN  "
      ]
     },
     "execution_count": 62,
     "metadata": {},
     "output_type": "execute_result"
    }
   ],
   "source": [
    "df = pd.read_csv(r'C:/Users/vishw/OneDrive/Desktop/Indian Startup Funding/startup_funding.csv', encoding='latin1')\n",
    "df.head()"
   ]
  },
  {
   "cell_type": "code",
   "execution_count": 63,
   "id": "ca498cef",
   "metadata": {},
   "outputs": [
    {
     "data": {
      "text/plain": [
       "Sr No                   0\n",
       "Date                    0\n",
       "Startup Name            0\n",
       "Industry Vertical     171\n",
       "SubVertical           936\n",
       "City  Location        180\n",
       "Investors Name         24\n",
       "InvestmentnType         4\n",
       "Amount in USD         960\n",
       "Remarks              2625\n",
       "dtype: int64"
      ]
     },
     "execution_count": 63,
     "metadata": {},
     "output_type": "execute_result"
    }
   ],
   "source": [
    "df.isnull().sum()"
   ]
  },
  {
   "cell_type": "code",
   "execution_count": 64,
   "id": "2bfad2a8",
   "metadata": {},
   "outputs": [
    {
     "name": "stdout",
     "output_type": "stream",
     "text": [
      "Index(['sr_no', 'date', 'startup_name', 'industry_vertical', 'subvertical',\n",
      "       'city__location', 'investors_name', 'investmentntype', 'amount_in_usd',\n",
      "       'remarks'],\n",
      "      dtype='object')\n"
     ]
    }
   ],
   "source": [
    "df.columns = df.columns.str.strip()              # Remove leading/trailing spaces\n",
    "df.columns = df.columns.str.lower()              # Lowercase everything\n",
    "df.columns = df.columns.str.replace(' ', '_')    # Replace spaces with underscores\n",
    "df.columns = df.columns.str.replace('[^a-z0-9_]', '', regex=True)  # Remove special characters\n",
    "\n",
    "\n",
    "print(df.columns)"
   ]
  },
  {
   "cell_type": "code",
   "execution_count": 74,
   "id": "67b57bcb",
   "metadata": {},
   "outputs": [
    {
     "name": "stdout",
     "output_type": "stream",
     "text": [
      "Missing in Sub Vertical: 0\n"
     ]
    }
   ],
   "source": [
    "#Handling Sub-Vertical using Industry vertical by fillna method\n",
    "def fill_subvertical(row):\n",
    "    if pd.isnull(row['subvertical']):\n",
    "        sub = df[df['industry_vertical'] == row['industry_vertical']]['subvertical'].mode()\n",
    "        if not sub.empty:\n",
    "            return sub[0]\n",
    "    return row['subvertical']\n",
    "\n",
    "df['subvertical'] = df.apply(fill_subvertical, axis=1)\n",
    "\n",
    "#print(\"Missing in Sub Vertical:\", df['SubVertical'].isnull().sum())\n",
    "\n",
    "df['subvertical'] = df['subvertical'].fillna('Unknown')\n",
    "\n",
    "print(\"Missing in Sub Vertical:\", df['subvertical'].isnull().sum())"
   ]
  },
  {
   "cell_type": "code",
   "execution_count": 81,
   "id": "e2305e90",
   "metadata": {},
   "outputs": [],
   "source": [
    "#Filling Industry vertical using 'fillna' method and 'SubVertical' Column\n",
    "df['industry_vertical'] = df['subvertical'].fillna('Unknown')"
   ]
  },
  {
   "cell_type": "code",
   "execution_count": 75,
   "id": "8d53b137",
   "metadata": {},
   "outputs": [],
   "source": [
    "#Handlling missing city as 'unknown'\n",
    "df['city__location'] = df['city__location'].fillna('Unknown')\n"
   ]
  },
  {
   "cell_type": "code",
   "execution_count": 76,
   "id": "229263a6",
   "metadata": {},
   "outputs": [],
   "source": [
    "#Handlling missing Investor Name as 'unknown'\n",
    "df['investors_name'] = df['investors_name'].fillna('Unknown')"
   ]
  },
  {
   "cell_type": "code",
   "execution_count": 69,
   "id": "80ef6148",
   "metadata": {},
   "outputs": [
    {
     "name": "stdout",
     "output_type": "stream",
     "text": [
      "missing value in investment type: 0\n"
     ]
    }
   ],
   "source": [
    "#dropping rows with missing InvestmentType\n",
    "df = df[df['investmentntype'].notnull()]\n",
    "print(\"missing value in investment type:\", df['investmentntype'].isnull().sum())"
   ]
  },
  {
   "cell_type": "code",
   "execution_count": 82,
   "id": "f2112384",
   "metadata": {},
   "outputs": [],
   "source": [
    "#Handling 'Amount' cloumn using 'Median' method\n",
    "if df['amount_in_usd'].dtype == 'object':\n",
    "    df['amount_in_usd'].describe()\n",
    "    df['amount_in_usd'] = df['amount_in_usd'].str.replace(',','')\n",
    "    df['amount_in_usd'] = pd.to_numeric(df['amount_in_usd'], errors='coerce')\n",
    "\n",
    "overall_median = df['amount_in_usd'].median()\n",
    "def fill_amount(row):\n",
    "    if pd.isnull(row['amount_in_usd']):\n",
    "        median_amnt = df[df['investmentntype'] == row['investmentntype']]['amount_in_usd'].median()\n",
    "        if pd.isnull(median_amnt):\n",
    "            return overall_median\n",
    "        return median_amnt\n",
    "    return row['amount_in_usd']\n",
    "\n",
    "df['amount_in_usd'] = df.apply(fill_amount, axis=1)\n"
   ]
  },
  {
   "cell_type": "code",
   "execution_count": null,
   "id": "c77c2489",
   "metadata": {},
   "outputs": [
    {
     "data": {
      "text/plain": [
       "sr_no                0\n",
       "date                 0\n",
       "startup_name         0\n",
       "industry_vertical    0\n",
       "subvertical          0\n",
       "city__location       0\n",
       "investors_name       0\n",
       "investmentntype      0\n",
       "amount_in_usd        0\n",
       "dtype: int64"
      ]
     },
     "execution_count": 80,
     "metadata": {},
     "output_type": "execute_result"
    }
   ],
   "source": [
    "df.drop('remarks',axis=1, inplace=True)\n",
    "df.isnull().sum()"
   ]
  },
  {
   "cell_type": "code",
   "execution_count": 83,
   "id": "c6589902",
   "metadata": {},
   "outputs": [
    {
     "name": "stdout",
     "output_type": "stream",
     "text": [
      "data saved to 'Updated_data'\n"
     ]
    }
   ],
   "source": [
    "df.to_csv('Updated_data.csv', index=False)\n",
    "print(\"data saved to 'Updated_data'\")"
   ]
  }
 ],
 "metadata": {
  "kernelspec": {
   "display_name": "Python 3",
   "language": "python",
   "name": "python3"
  },
  "language_info": {
   "codemirror_mode": {
    "name": "ipython",
    "version": 3
   },
   "file_extension": ".py",
   "mimetype": "text/x-python",
   "name": "python",
   "nbconvert_exporter": "python",
   "pygments_lexer": "ipython3",
   "version": "3.12.8"
  }
 },
 "nbformat": 4,
 "nbformat_minor": 5
}
